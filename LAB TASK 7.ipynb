{
 "cells": [
  {
   "cell_type": "markdown",
   "metadata": {},
   "source": [
    "# A* Algorithm"
   ]
  },
  {
   "cell_type": "code",
   "execution_count": 1,
   "metadata": {},
   "outputs": [
    {
     "name": "stdout",
     "output_type": "stream",
     "text": [
      "Path found: [(1, 0), (2, 0), (2, 1), (2, 2), (2, 3)]\n"
     ]
    }
   ],
   "source": [
    "def astar(grid, start, goal):\n",
    "    open_lists = [start]\n",
    "    close_list = []\n",
    "    costs = {start: 0}\n",
    "    parent = {}\n",
    "    while open_lists:\n",
    "        node = min(open_lists, key=lambda x: costs[x] + abs(x[0] - goal[0]) + abs(x[1] - goal[1]))\n",
    "        open_lists.remove(node)\n",
    "        close_list.append(node)\n",
    "        if node == goal:\n",
    "            path = []\n",
    "            while node in parent:\n",
    "                path.append(node)\n",
    "                node = parent[node]\n",
    "            return path[::-1]\n",
    "        for dx, dy in [(1, 0), (-1, 0), (0, 1), (0, -1)]:\n",
    "            x, y = node[0] + dx, node[1] + dy\n",
    "            if 0 <= x < len(grid) and 0 <= y < len(grid[0]) and grid[x][y] == 0:\n",
    "                new_cost = costs[node] + 1\n",
    "                if (x, y) not in costs or new_cost < costs[(x, y)]:\n",
    "                    parent[(x, y)] = node\n",
    "                    costs[(x, y)] = new_cost\n",
    "                    open_lists.append((x, y))\n",
    "    return None\n",
    "grid = [[0, 0, 1, 0],\n",
    "        [0, 0, 1, 0],\n",
    "        [0, 0, 0, 0]]\n",
    "start = (0, 0)\n",
    "goal = (2, 3)\n",
    "path = astar(grid, start, goal)\n",
    "print(\"Path found:\",path)"
   ]
  }
 ],
 "metadata": {
  "kernelspec": {
   "display_name": "Python 3",
   "language": "python",
   "name": "python3"
  },
  "language_info": {
   "codemirror_mode": {
    "name": "ipython",
    "version": 3
   },
   "file_extension": ".py",
   "mimetype": "text/x-python",
   "name": "python",
   "nbconvert_exporter": "python",
   "pygments_lexer": "ipython3",
   "version": "3.12.2"
  }
 },
 "nbformat": 4,
 "nbformat_minor": 2
}
