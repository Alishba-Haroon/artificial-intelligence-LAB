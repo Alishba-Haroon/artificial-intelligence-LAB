{
 "cells": [
  {
   "cell_type": "markdown",
   "metadata": {},
   "source": [
    "#  Code of \"Min Max Algorithm\""
   ]
  },
  {
   "cell_type": "code",
   "execution_count": 5,
   "metadata": {},
   "outputs": [
    {
     "name": "stdout",
     "output_type": "stream",
     "text": [
      "The optimal value is : 11\n"
     ]
    }
   ],
   "source": [
    "import math\n",
    "\n",
    "def mini_max(curDepth, nodeIndex, maxTurn, scores, targetDepth):\n",
    "\t\n",
    "\tif (curDepth == targetDepth): \n",
    "\t\treturn scores[nodeIndex]\n",
    "\t\n",
    "\tif (maxTurn):\n",
    "\t\treturn max(mini_max(curDepth + 1, nodeIndex * 2, \n",
    "\t\t\t\t\tFalse, scores, targetDepth), \n",
    "\t\t\t\tmini_max(curDepth + 1, nodeIndex * 2 + 1, \n",
    "\t\t\t\t\tFalse, scores, targetDepth))\n",
    "\t\n",
    "\telse:\n",
    "\t\treturn min(mini_max(curDepth + 1, nodeIndex * 2, \n",
    "\t\t\t\t\tTrue, scores, targetDepth), \n",
    "\t\t\t\tmini_max(curDepth + 1, nodeIndex * 2 + 1, \n",
    "\t\t\t\t\tTrue, scores, targetDepth))\n",
    "\t\n",
    "scores = [3, 5, 7, 8, 11, 4, 29, 2]\n",
    "\n",
    "treeDepth = math.log(len(scores), 2)\n",
    "\n",
    "print(\"The optimal value is : \", end = \"\")\n",
    "print(mini_max(0, 0, True, scores, treeDepth))\n"
   ]
  }
 ],
 "metadata": {
  "kernelspec": {
   "display_name": "Python 3",
   "language": "python",
   "name": "python3"
  },
  "language_info": {
   "codemirror_mode": {
    "name": "ipython",
    "version": 3
   },
   "file_extension": ".py",
   "mimetype": "text/x-python",
   "name": "python",
   "nbconvert_exporter": "python",
   "pygments_lexer": "ipython3",
   "version": "3.12.2"
  }
 },
 "nbformat": 4,
 "nbformat_minor": 2
}
