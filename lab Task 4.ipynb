{
 "cells": [
  {
   "cell_type": "markdown",
   "metadata": {},
   "source": [
    "# Code for LUHN Algorithm "
   ]
  },
  {
   "cell_type": "code",
   "execution_count": 2,
   "metadata": {},
   "outputs": [
    {
     "name": "stdout",
     "output_type": "stream",
     "text": [
      "23768994 is invalid\n"
     ]
    }
   ],
   "source": [
    "def luhn_algorithm(card_number):\n",
    "    digits = [int(d) for d in card_number]\n",
    "    digits = digits[::-1]\n",
    "    checksum = 0\n",
    "    for i, d in enumerate(digits):\n",
    "        if i % 2 == 1:\n",
    "            doubled = d * 2\n",
    "            doubled = doubled - 9 if doubled > 9 else doubled\n",
    "            checksum += doubled\n",
    "        else:\n",
    "            checksum += d\n",
    "    return checksum % 10 == 0\n",
    "\n",
    "card_number = input(\"Enter the card number: \").replace(\" \", \"\")\n",
    "if luhn_algorithm(card_number):\n",
    "    print(f\"{card_number} is valid\")\n",
    "else:\n",
    "    print(f\"{card_number} is invalid\")\n"
   ]
  },
  {
   "cell_type": "markdown",
   "metadata": {},
   "source": [
    "#  Remove Punctuations"
   ]
  },
  {
   "cell_type": "code",
   "execution_count": 3,
   "metadata": {},
   "outputs": [
    {
     "name": "stdout",
     "output_type": "stream",
     "text": [
      "My ...name is @!!!?? Ali\n",
      "String without punctuations: My name is  Ali\n"
     ]
    }
   ],
   "source": [
    "def remove_punctuation(input_string):\n",
    "    punctuation = r\"\"\"!()-[]{};:'\",./?@#$%^&*_~\"\"\"\n",
    "    result_string = \"\"\n",
    "    for char in input_string:\n",
    "        if char not in punctuation:\n",
    "            result_string += char\n",
    "    return result_string\n",
    "user_input = input(\"Enter a string: \")\n",
    "print(user_input)\n",
    "clean_string = remove_punctuation(user_input)\n",
    "print(f\"String without punctuations: {clean_string}\")"
   ]
  },
  {
   "cell_type": "markdown",
   "metadata": {},
   "source": [
    "# Sort text (word) in Alphabetical Order "
   ]
  },
  {
   "cell_type": "code",
   "execution_count": 4,
   "metadata": {},
   "outputs": [
    {
     "name": "stdout",
     "output_type": "stream",
     "text": [
      "Original String is:\n",
      "My name is Ali\n",
      "Sorted String is:\n",
      "Ali is My name\n"
     ]
    }
   ],
   "source": [
    "def sort_word(input_string):\n",
    "    words = input_string.split()\n",
    "    for i in range(len(words)):\n",
    "        for j in range(len(words) - 1):\n",
    "            if words[j].lower() > words[j + 1].lower():\n",
    "                words[j], words[j + 1] = words[j + 1], words[j]\n",
    "\n",
    "    return ' '.join(words)\n",
    "\n",
    "user_input = input(\"Enter a string: \")\n",
    "print(\"Original String is:\")\n",
    "print(user_input)\n",
    "sorted_string = sort_word(user_input)\n",
    "print(\"Sorted String is:\")\n",
    "print(sorted_string)"
   ]
  }
 ],
 "metadata": {
  "kernelspec": {
   "display_name": "Python 3",
   "language": "python",
   "name": "python3"
  },
  "language_info": {
   "codemirror_mode": {
    "name": "ipython",
    "version": 3
   },
   "file_extension": ".py",
   "mimetype": "text/x-python",
   "name": "python",
   "nbconvert_exporter": "python",
   "pygments_lexer": "ipython3",
   "version": "3.12.2"
  }
 },
 "nbformat": 4,
 "nbformat_minor": 2
}
