{
 "cells": [
  {
   "cell_type": "markdown",
   "metadata": {},
   "source": [
    "# fizz Buzz Game"
   ]
  },
  {
   "cell_type": "code",
   "execution_count": 7,
   "metadata": {},
   "outputs": [
    {
     "name": "stdout",
     "output_type": "stream",
     "text": [
      "The game is Buzz!\n",
      "The game is Fizz!\n",
      "The game is Fizz Buzz!\n",
      "Game Over!\n",
      "Better luck next time.\n",
      "Thanks for playing!\n"
     ]
    }
   ],
   "source": [
    "# Fizz Buzz Game\n",
    "\n",
    "def fizz_buzz():\n",
    "    while True:\n",
    "        number = input(\"Enter a number: \")\n",
    "        try:\n",
    "            num = int(number)\n",
    "            if num % 3 == 0 and num % 5 == 0:\n",
    "                print(\"The game is Fizz Buzz!\")\n",
    "            elif num % 3 == 0:\n",
    "                print(\"The game is Fizz!\")\n",
    "            elif num % 5 == 0:\n",
    "                print(\"The game is Buzz!\")\n",
    "            else:\n",
    "                print(\"Game Over!\")\n",
    "                print(\"Better luck next time.\")\n",
    "                play_again = input(\"Do you want to play again? (yes/no): \")\n",
    "                if play_again.lower() != \"yes\":\n",
    "                    break\n",
    "        except ValueError:\n",
    "            print(\"Invalid input. Please enter a number.\")\n",
    "\n",
    "    print(\"Thanks for playing!\")\n",
    "\n",
    "fizz_buzz()\n"
   ]
  },
  {
   "cell_type": "markdown",
   "metadata": {},
   "source": [
    "# movie Task"
   ]
  },
  {
   "cell_type": "code",
   "execution_count": 9,
   "metadata": {},
   "outputs": [
    {
     "name": "stdout",
     "output_type": "stream",
     "text": [
      "Movies with a budget higher than the average:\n",
      "harry potter - Budget: 4000000000000, 3555180845679.1113 higher than the average\n",
      "\n",
      "Number of movies that spent more than the average: 1\n"
     ]
    }
   ],
   "source": [
    "movies = [\n",
    "    (\"Eternal Sunshine of the Spotless Mind\", 20000000),\n",
    "    (\"Memento\", 9000000),\n",
    "    (\"Requiem for a Dream\", 4500000),\n",
    "    (\"Pirates of the Caribbean: On Stranger Tides\", 379000000),\n",
    "    (\"Avengers: Age of Ultron\", 365000000),\n",
    "    (\"Avengers: Endgame\", 356000000),\n",
    "    (\"Incredibles 2\", 200000000)\n",
    "]\n",
    "\n",
    "movies_added = int(input(\"How many movies do you want to add? \"))\n",
    "for i in range(movies_added):\n",
    "    name = input(\"Enter the movie name: \")\n",
    "    budget = int(input(\"Enter the movie budget: \"))\n",
    "    movies.append((name, budget))\n",
    "\n",
    "total_budget = sum(budget for _, budget in movies)\n",
    "average_budget = total_budget / len(movies)\n",
    "high_budget_movies = [(name, budget) for name, budget in movies if budget > average_budget]\n",
    "\n",
    "print(\"Movies with a budget higher than the average:\")\n",
    "for name, budget in high_budget_movies:\n",
    "    print(f\"{name} - Budget: {budget}, {budget - average_budget} higher than the average\")\n",
    "\n",
    "print(f\"\\nNumber of movies that spent more than the average: {len(high_budget_movies)}\")"
   ]
  },
  {
   "cell_type": "code",
   "execution_count": null,
   "metadata": {},
   "outputs": [],
   "source": []
  }
 ],
 "metadata": {
  "kernelspec": {
   "display_name": "Python 3",
   "language": "python",
   "name": "python3"
  },
  "language_info": {
   "codemirror_mode": {
    "name": "ipython",
    "version": 3
   },
   "file_extension": ".py",
   "mimetype": "text/x-python",
   "name": "python",
   "nbconvert_exporter": "python",
   "pygments_lexer": "ipython3",
   "version": "3.12.2"
  }
 },
 "nbformat": 4,
 "nbformat_minor": 2
}
