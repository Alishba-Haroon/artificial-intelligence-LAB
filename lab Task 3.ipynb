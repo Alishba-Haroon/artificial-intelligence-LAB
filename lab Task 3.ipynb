{
 "cells": [
  {
   "cell_type": "markdown",
   "metadata": {},
   "source": [
    "# Reflex Agent Model"
   ]
  },
  {
   "cell_type": "code",
   "execution_count": 5,
   "metadata": {},
   "outputs": [
    {
     "name": "stdout",
     "output_type": "stream",
     "text": [
      "Living Room: Current temperature = 18°C. Action: Turn on heater\n",
      "Bedroom: Current temperature = 22°C. Action: Turn off heater\n",
      "Kitchen: Current temperature = 20°C. Action: Turn on heater\n",
      "Bathroom: Current temperature = 24°C. Action: Turn off heater\n"
     ]
    }
   ],
   "source": [
    "class ReflexAgent:\n",
    "    def __init__(self, desired_temperature):\n",
    "        self.desired_temperature = desired_temperature\n",
    "\n",
    "    def act(self, current_temperature):\n",
    "        if current_temperature < self.desired_temperature:\n",
    "            return \"Turn on heater\"\n",
    "        elif current_temperature >= self.desired_temperature:\n",
    "            return \"Turn off heater\"\n",
    "        else:\n",
    "            return \"No action needed\"\n",
    "        \n",
    "desired_temperature = 22\n",
    "agent = ReflexAgent(desired_temperature)\n",
    "rooms = {\n",
    "    \"Living Room\": 18,\n",
    "    \"Bedroom\": 22,\n",
    "    \"Kitchen\": 20,\n",
    "    \"Bathroom\": 24\n",
    "}\n",
    "for room, temp in rooms.items():\n",
    "    print(f\"{room}: Current temperature = {temp}°C. Action: {agent.act(temp)}\")\n",
    "\n",
    "\n"
   ]
  },
  {
   "cell_type": "markdown",
   "metadata": {},
   "source": [
    "#  Model Based Reflex Agent"
   ]
  },
  {
   "cell_type": "code",
   "execution_count": 4,
   "metadata": {},
   "outputs": [
    {
     "name": "stdout",
     "output_type": "stream",
     "text": [
      "Bathroom: Current temperature = 24°C. Action: Turn off heater\n",
      "Kitchen: Current temperature = 20°C. Action: Turn on heater\n",
      "Bedroom: Current temperature = 22°C. Action: Turn off heater\n",
      "Living Room: Current temperature = 18°C. Action: Turn on heater\n"
     ]
    }
   ],
   "source": [
    "class ModelBasedReflexAgent:\n",
    "    def __init__(self, desired_temperature):\n",
    "        self.desired_temperature = desired_temperature\n",
    "        self.heater_on = False\n",
    "        self.previous_temperature = None\n",
    "\n",
    "    def perceive(self, current_temperature):\n",
    "        self.previous_temperature = current_temperature\n",
    "        return current_temperature\n",
    "\n",
    "    def act(self, current_temperature):\n",
    "        if self.previous_temperature is None:\n",
    "            if current_temperature < self.desired_temperature:\n",
    "                action = \"Turn on heater\"\n",
    "                self.heater_on = True\n",
    "            else:\n",
    "                action = \"Turn off heater\"\n",
    "                self.heater_on = False\n",
    "        elif current_temperature < self.desired_temperature and not self.heater_on:\n",
    "            action = \"Turn on heater\"\n",
    "            self.heater_on = True\n",
    "        elif current_temperature >= self.desired_temperature and self.heater_on:\n",
    "            action = \"Turn off heater\"\n",
    "            self.heater_on = False\n",
    "        else:\n",
    "            action = \"No action needed\"\n",
    "        return action\n",
    "desired_temperature = 22\n",
    "agent = ModelBasedReflexAgent(desired_temperature)\n",
    "rooms = {\n",
    "    \"Living Room\": 18,\n",
    "    \"Bedroom\": 22,\n",
    "    \"Kitchen\": 20,\n",
    "    \"Bathroom\": 24\n",
    "}\n",
    "while rooms:\n",
    "    room, temperature = rooms.popitem()\n",
    "    print(f\"{room}: Current temperature = {temperature}°C. Action: {agent.act(temperature)}\")"
   ]
  },
  {
   "cell_type": "code",
   "execution_count": null,
   "metadata": {},
   "outputs": [],
   "source": []
  }
 ],
 "metadata": {
  "kernelspec": {
   "display_name": "Python 3",
   "language": "python",
   "name": "python3"
  },
  "language_info": {
   "codemirror_mode": {
    "name": "ipython",
    "version": 3
   },
   "file_extension": ".py",
   "mimetype": "text/x-python",
   "name": "python",
   "nbconvert_exporter": "python",
   "pygments_lexer": "ipython3",
   "version": "3.12.2"
  }
 },
 "nbformat": 4,
 "nbformat_minor": 2
}
